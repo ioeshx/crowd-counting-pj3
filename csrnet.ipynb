{
  "cells": [
    {
      "cell_type": "code",
      "execution_count": null,
      "metadata": {
        "id": "uFBbtFMmY5ur"
      },
      "outputs": [],
      "source": [
        "# ! git clone https://github.com/AI-FDU/ai-fdu.github.io.git"
      ]
    },
    {
      "cell_type": "code",
      "execution_count": null,
      "metadata": {},
      "outputs": [],
      "source": [
        "# %cd ai-fdu.github.io/pj3"
      ]
    },
    {
      "cell_type": "code",
      "execution_count": null,
      "metadata": {
        "id": "RXaqob53Zr0H"
      },
      "outputs": [],
      "source": [
        "%mkdir model"
      ]
    },
    {
      "cell_type": "code",
      "execution_count": null,
      "metadata": {
        "id": "8jz2FHVmZ7tP"
      },
      "outputs": [],
      "source": [
        "! python train.py"
      ]
    },
    {
      "cell_type": "code",
      "execution_count": null,
      "metadata": {
        "id": "CGfWRh8-egxl"
      },
      "outputs": [],
      "source": [
        "! python test.py > ans.txt"
      ]
    }
  ],
  "metadata": {
    "accelerator": "GPU",
    "colab": {
      "gpuType": "T4",
      "provenance": []
    },
    "kernelspec": {
      "display_name": "Python 3",
      "name": "python3"
    },
    "language_info": {
      "name": "python"
    }
  },
  "nbformat": 4,
  "nbformat_minor": 0
}
