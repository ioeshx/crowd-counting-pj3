{
 "cells": [
  {
   "cell_type": "code",
   "execution_count": 1,
   "metadata": {
    "id": "uFBbtFMmY5ur"
   },
   "outputs": [],
   "source": [
    "# ! git clone https://github.com/AI-FDU/ai-fdu.github.io.git"
   ]
  },
  {
   "cell_type": "code",
   "execution_count": 2,
   "metadata": {},
   "outputs": [],
   "source": [
    "# %cd ai-fdu.github.io/pj3"
   ]
  },
  {
   "cell_type": "code",
   "execution_count": 1,
   "metadata": {
    "id": "RXaqob53Zr0H"
   },
   "outputs": [
    {
     "name": "stdout",
     "output_type": "stream",
     "text": [
      "mkdir: cannot create directory ‘model’: File exists\n"
     ]
    }
   ],
   "source": [
    "%mkdir model"
   ]
  },
  {
   "cell_type": "code",
   "execution_count": 2,
   "metadata": {},
   "outputs": [
    {
     "name": "stdout",
     "output_type": "stream",
     "text": [
      "Looking in indexes: http://mirrors.aliyun.com/pypi/simple\n",
      "Requirement already satisfied: opencv-python in /root/miniconda3/lib/python3.10/site-packages (4.9.0.80)\n",
      "Requirement already satisfied: numpy>=1.17.0 in /root/miniconda3/lib/python3.10/site-packages (from opencv-python) (1.26.3)\n",
      "\u001b[33mWARNING: Running pip as the 'root' user can result in broken permissions and conflicting behaviour with the system package manager. It is recommended to use a virtual environment instead: https://pip.pypa.io/warnings/venv\u001b[0m\u001b[33m\n",
      "\u001b[0mLooking in indexes: http://mirrors.aliyun.com/pypi/simple\n",
      "Requirement already satisfied: h5py in /root/miniconda3/lib/python3.10/site-packages (3.11.0)\n",
      "Requirement already satisfied: numpy>=1.17.3 in /root/miniconda3/lib/python3.10/site-packages (from h5py) (1.26.3)\n",
      "\u001b[33mWARNING: Running pip as the 'root' user can result in broken permissions and conflicting behaviour with the system package manager. It is recommended to use a virtual environment instead: https://pip.pypa.io/warnings/venv\u001b[0m\u001b[33m\n",
      "\u001b[0mLooking in indexes: http://mirrors.aliyun.com/pypi/simple\n",
      "Collecting scipy\n",
      "  Downloading http://mirrors.aliyun.com/pypi/packages/b9/9d/39dbcf49a793157f9d4f5b8961855677eb4dbb4b82700dcee7042ad2310c/scipy-1.13.0-cp310-cp310-manylinux_2_17_x86_64.manylinux2014_x86_64.whl (38.6 MB)\n",
      "\u001b[2K     \u001b[90m━━━━━━━━━━━━━━━━━━━━━━━━━━━━━━━━━━━━━━━━\u001b[0m \u001b[32m38.6/38.6 MB\u001b[0m \u001b[31m13.2 MB/s\u001b[0m eta \u001b[36m0:00:00\u001b[0m00:01\u001b[0m00:01\u001b[0m\n",
      "\u001b[?25hRequirement already satisfied: numpy<2.3,>=1.22.4 in /root/miniconda3/lib/python3.10/site-packages (from scipy) (1.26.3)\n",
      "Installing collected packages: scipy\n",
      "Successfully installed scipy-1.13.0\n",
      "\u001b[33mWARNING: Running pip as the 'root' user can result in broken permissions and conflicting behaviour with the system package manager. It is recommended to use a virtual environment instead: https://pip.pypa.io/warnings/venv\u001b[0m\u001b[33m\n",
      "\u001b[0m"
     ]
    }
   ],
   "source": [
    "! pip install opencv-python\n",
    "! pip install h5py\n",
    "! pip install scipy"
   ]
  },
  {
   "cell_type": "code",
   "execution_count": 3,
   "metadata": {
    "id": "8jz2FHVmZ7tP"
   },
   "outputs": [
    {
     "name": "stdout",
     "output_type": "stream",
     "text": [
      "/root/miniconda3/lib/python3.10/site-packages/torchvision/models/_utils.py:208: UserWarning: The parameter 'pretrained' is deprecated since 0.13 and may be removed in the future, please use 'weights' instead.\n",
      "  warnings.warn(\n",
      "/root/miniconda3/lib/python3.10/site-packages/torchvision/models/_utils.py:223: UserWarning: Arguments other than a weight enum or `None` for 'weights' are deprecated since 0.13 and may be removed in the future. The current behavior is equivalent to passing `weights=VGG16_Weights.IMAGENET1K_V1`. You can also use `weights=VGG16_Weights.DEFAULT` to get the most up-to-date weights.\n",
      "  warnings.warn(msg)\n",
      "/root/miniconda3/lib/python3.10/site-packages/torch/nn/_reduction.py:42: UserWarning: size_average and reduce args will be deprecated, please use reduction='sum' instead.\n",
      "  warnings.warn(warning.format(ret))\n",
      "epoch 0, processed 0 samples, lr 0.0000001000\n",
      "Epoch: [0][0/1445]\tTime 0.546 (0.546)\tData 0.080 (0.080)\tLoss 0.6278 (0.6278)\t\n",
      "Epoch: [0][30/1445]\tTime 0.023 (0.040)\tData 0.004 (0.006)\tLoss 63.2499 (8.6710)\t\n",
      "Epoch: [0][60/1445]\tTime 0.023 (0.032)\tData 0.003 (0.004)\tLoss 4.9087 (5.9784)\t\n",
      "Epoch: [0][90/1445]\tTime 0.023 (0.029)\tData 0.002 (0.004)\tLoss 0.9101 (5.4865)\t\n",
      "Epoch: [0][120/1445]\tTime 0.022 (0.027)\tData 0.002 (0.003)\tLoss 1.0800 (5.7672)\t\n",
      "Epoch: [0][150/1445]\tTime 0.022 (0.026)\tData 0.002 (0.003)\tLoss 5.4765 (5.4179)\t\n",
      "Epoch: [0][180/1445]\tTime 0.022 (0.026)\tData 0.002 (0.003)\tLoss 0.9146 (5.0153)\t\n",
      "Epoch: [0][210/1445]\tTime 0.023 (0.025)\tData 0.002 (0.003)\tLoss 2.0775 (4.9302)\t\n",
      "Epoch: [0][240/1445]\tTime 0.023 (0.025)\tData 0.002 (0.003)\tLoss 2.2962 (4.7562)\t\n",
      "Epoch: [0][270/1445]\tTime 0.023 (0.025)\tData 0.002 (0.003)\tLoss 1.0340 (4.7052)\t\n",
      "Epoch: [0][300/1445]\tTime 0.023 (0.024)\tData 0.002 (0.003)\tLoss 1.0339 (4.8408)\t\n",
      "Epoch: [0][330/1445]\tTime 0.023 (0.024)\tData 0.002 (0.002)\tLoss 2.4036 (4.6137)\t\n",
      "Epoch: [0][360/1445]\tTime 0.023 (0.024)\tData 0.002 (0.002)\tLoss 1.2514 (4.9596)\t\n",
      "Epoch: [0][390/1445]\tTime 0.022 (0.024)\tData 0.002 (0.002)\tLoss 2.4875 (4.8311)\t\n",
      "Epoch: [0][420/1445]\tTime 0.023 (0.024)\tData 0.002 (0.002)\tLoss 3.5271 (4.7014)\t\n",
      "Epoch: [0][450/1445]\tTime 0.022 (0.024)\tData 0.002 (0.002)\tLoss 1.2022 (4.9434)\t\n",
      "Epoch: [0][480/1445]\tTime 0.023 (0.024)\tData 0.002 (0.002)\tLoss 5.8156 (4.8708)\t\n",
      "Epoch: [0][510/1445]\tTime 0.022 (0.024)\tData 0.002 (0.002)\tLoss 3.0489 (5.0172)\t\n",
      "Epoch: [0][540/1445]\tTime 0.022 (0.024)\tData 0.002 (0.002)\tLoss 1.3827 (4.8611)\t\n",
      "Epoch: [0][570/1445]\tTime 0.023 (0.024)\tData 0.002 (0.002)\tLoss 3.2889 (4.8905)\t\n",
      "Epoch: [0][600/1445]\tTime 0.023 (0.023)\tData 0.002 (0.002)\tLoss 1.2231 (4.9533)\t\n",
      "Epoch: [0][630/1445]\tTime 0.023 (0.023)\tData 0.002 (0.002)\tLoss 1.1223 (4.8986)\t\n",
      "Epoch: [0][660/1445]\tTime 0.023 (0.023)\tData 0.003 (0.002)\tLoss 7.4512 (4.9126)\t\n",
      "Epoch: [0][690/1445]\tTime 0.023 (0.023)\tData 0.002 (0.002)\tLoss 1.8744 (4.9987)\t\n",
      "Epoch: [0][720/1445]\tTime 0.023 (0.023)\tData 0.004 (0.002)\tLoss 13.9824 (5.0209)\t\n",
      "Epoch: [0][750/1445]\tTime 0.023 (0.023)\tData 0.003 (0.002)\tLoss 8.9457 (4.9432)\t\n",
      "Epoch: [0][780/1445]\tTime 0.022 (0.023)\tData 0.002 (0.002)\tLoss 9.1421 (4.8611)\t\n",
      "Epoch: [0][810/1445]\tTime 0.023 (0.023)\tData 0.002 (0.002)\tLoss 1.3263 (4.7960)\t\n",
      "Epoch: [0][840/1445]\tTime 0.023 (0.023)\tData 0.002 (0.002)\tLoss 5.2060 (4.7026)\t\n",
      "Epoch: [0][870/1445]\tTime 0.023 (0.023)\tData 0.002 (0.002)\tLoss 0.5615 (4.6362)\t\n",
      "Epoch: [0][900/1445]\tTime 0.023 (0.023)\tData 0.002 (0.002)\tLoss 0.9535 (4.6052)\t\n",
      "Epoch: [0][930/1445]\tTime 0.022 (0.023)\tData 0.002 (0.002)\tLoss 1.9913 (4.6773)\t\n",
      "Epoch: [0][960/1445]\tTime 0.022 (0.023)\tData 0.002 (0.002)\tLoss 1.1750 (4.6570)\t\n",
      "Epoch: [0][990/1445]\tTime 0.022 (0.023)\tData 0.002 (0.002)\tLoss 0.9939 (4.6739)\t\n",
      "Epoch: [0][1020/1445]\tTime 0.023 (0.023)\tData 0.002 (0.002)\tLoss 0.9986 (4.6646)\t\n",
      "Epoch: [0][1050/1445]\tTime 0.023 (0.023)\tData 0.002 (0.002)\tLoss 1.1890 (4.8037)\t\n",
      "Epoch: [0][1080/1445]\tTime 0.023 (0.023)\tData 0.002 (0.002)\tLoss 2.2666 (4.7881)\t\n",
      "Epoch: [0][1110/1445]\tTime 0.023 (0.023)\tData 0.002 (0.002)\tLoss 1.7085 (4.8399)\t\n",
      "Epoch: [0][1140/1445]\tTime 0.023 (0.023)\tData 0.002 (0.002)\tLoss 0.9729 (4.7989)\t\n",
      "Epoch: [0][1170/1445]\tTime 0.023 (0.023)\tData 0.002 (0.002)\tLoss 1.6044 (4.7998)\t\n",
      "Epoch: [0][1200/1445]\tTime 0.023 (0.023)\tData 0.002 (0.002)\tLoss 1.1449 (4.7687)\t\n",
      "Epoch: [0][1230/1445]\tTime 0.022 (0.023)\tData 0.002 (0.002)\tLoss 1.3870 (4.7133)\t\n",
      "Epoch: [0][1260/1445]\tTime 0.022 (0.023)\tData 0.002 (0.002)\tLoss 1.0269 (4.6991)\t\n",
      "Epoch: [0][1290/1445]\tTime 0.023 (0.023)\tData 0.002 (0.002)\tLoss 2.4777 (4.6993)\t\n",
      "Epoch: [0][1320/1445]\tTime 0.023 (0.023)\tData 0.002 (0.002)\tLoss 8.4504 (4.7288)\t\n",
      "Epoch: [0][1350/1445]\tTime 0.023 (0.023)\tData 0.002 (0.002)\tLoss 0.9693 (4.6910)\t\n",
      "Epoch: [0][1380/1445]\tTime 0.023 (0.023)\tData 0.002 (0.002)\tLoss 73.7677 (4.7628)\t\n",
      "Epoch: [0][1410/1445]\tTime 0.023 (0.023)\tData 0.002 (0.002)\tLoss 1.1261 (4.8212)\t\n",
      "Epoch: [0][1440/1445]\tTime 0.023 (0.023)\tData 0.002 (0.002)\tLoss 7.6523 (4.8815)\t\n",
      "begin test\n",
      " * MAE 48.926 \n",
      " * best MAE 48.926 \n",
      "epoch 1, processed 1445 samples, lr 0.0000001000\n",
      "Epoch: [1][0/1445]\tTime 0.107 (0.107)\tData 0.090 (0.090)\tLoss 1.5333 (1.5333)\t\n",
      "Epoch: [1][30/1445]\tTime 0.023 (0.025)\tData 0.002 (0.005)\tLoss 2.4091 (2.4177)\t\n",
      "Epoch: [1][60/1445]\tTime 0.023 (0.024)\tData 0.002 (0.003)\tLoss 1.0695 (2.3998)\t\n",
      "Epoch: [1][90/1445]\tTime 0.022 (0.023)\tData 0.002 (0.003)\tLoss 1.0981 (2.5231)\t\n",
      "Epoch: [1][120/1445]\tTime 0.022 (0.023)\tData 0.002 (0.003)\tLoss 2.0155 (2.7245)\t\n",
      "Epoch: [1][150/1445]\tTime 0.023 (0.023)\tData 0.002 (0.003)\tLoss 1.4931 (3.1976)\t\n",
      "Epoch: [1][180/1445]\tTime 0.022 (0.023)\tData 0.002 (0.003)\tLoss 0.5824 (3.1249)\t\n",
      "Epoch: [1][210/1445]\tTime 0.023 (0.023)\tData 0.002 (0.003)\tLoss 2.4243 (3.8670)\t\n",
      "Epoch: [1][240/1445]\tTime 0.023 (0.023)\tData 0.002 (0.002)\tLoss 0.9115 (3.7975)\t\n",
      "Epoch: [1][270/1445]\tTime 0.023 (0.023)\tData 0.002 (0.002)\tLoss 6.6092 (3.9023)\t\n",
      "Epoch: [1][300/1445]\tTime 0.023 (0.023)\tData 0.002 (0.002)\tLoss 4.0944 (3.9750)\t\n",
      "Epoch: [1][330/1445]\tTime 0.022 (0.023)\tData 0.002 (0.002)\tLoss 4.7412 (4.2694)\t\n",
      "Epoch: [1][360/1445]\tTime 0.023 (0.023)\tData 0.002 (0.002)\tLoss 2.5790 (4.1442)\t\n",
      "Epoch: [1][390/1445]\tTime 0.022 (0.023)\tData 0.002 (0.002)\tLoss 7.0686 (4.2428)\t\n",
      "Epoch: [1][420/1445]\tTime 0.022 (0.023)\tData 0.002 (0.002)\tLoss 3.1777 (4.4210)\t\n",
      "Epoch: [1][450/1445]\tTime 0.023 (0.023)\tData 0.002 (0.002)\tLoss 1.6380 (4.4499)\t\n",
      "Epoch: [1][480/1445]\tTime 0.022 (0.023)\tData 0.002 (0.002)\tLoss 1.2384 (4.3498)\t\n",
      "Epoch: [1][510/1445]\tTime 0.022 (0.023)\tData 0.003 (0.002)\tLoss 2.0377 (4.3581)\t\n",
      "Epoch: [1][540/1445]\tTime 0.024 (0.023)\tData 0.004 (0.002)\tLoss 1.2837 (4.4261)\t\n",
      "Epoch: [1][570/1445]\tTime 0.023 (0.023)\tData 0.004 (0.002)\tLoss 1.8032 (4.5454)\t\n",
      "Epoch: [1][600/1445]\tTime 0.022 (0.023)\tData 0.002 (0.002)\tLoss 2.1497 (4.5110)\t\n",
      "Epoch: [1][630/1445]\tTime 0.023 (0.023)\tData 0.002 (0.002)\tLoss 0.8841 (4.4819)\t\n",
      "Epoch: [1][660/1445]\tTime 0.023 (0.023)\tData 0.002 (0.002)\tLoss 5.7782 (4.4766)\t\n",
      "Epoch: [1][690/1445]\tTime 0.023 (0.023)\tData 0.002 (0.002)\tLoss 1.2360 (4.3789)\t\n",
      "Epoch: [1][720/1445]\tTime 0.023 (0.023)\tData 0.002 (0.002)\tLoss 2.1346 (4.3011)\t\n",
      "Epoch: [1][750/1445]\tTime 0.023 (0.023)\tData 0.002 (0.002)\tLoss 6.4957 (4.4109)\t\n",
      "Epoch: [1][780/1445]\tTime 0.023 (0.023)\tData 0.002 (0.002)\tLoss 2.5066 (4.4984)\t\n",
      "Epoch: [1][810/1445]\tTime 0.023 (0.023)\tData 0.002 (0.002)\tLoss 1.0466 (4.4240)\t\n",
      "Epoch: [1][840/1445]\tTime 0.023 (0.023)\tData 0.002 (0.002)\tLoss 0.9970 (4.4003)\t\n",
      "Epoch: [1][870/1445]\tTime 0.023 (0.023)\tData 0.002 (0.002)\tLoss 55.3741 (4.5144)\t\n",
      "Epoch: [1][900/1445]\tTime 0.023 (0.023)\tData 0.002 (0.002)\tLoss 4.0524 (4.5255)\t\n",
      "Epoch: [1][930/1445]\tTime 0.023 (0.023)\tData 0.002 (0.002)\tLoss 9.0174 (4.4725)\t\n",
      "Epoch: [1][960/1445]\tTime 0.023 (0.023)\tData 0.002 (0.002)\tLoss 1.2736 (4.5048)\t\n",
      "Epoch: [1][990/1445]\tTime 0.022 (0.023)\tData 0.002 (0.002)\tLoss 1.8300 (4.4658)\t\n",
      "Epoch: [1][1020/1445]\tTime 0.023 (0.023)\tData 0.002 (0.002)\tLoss 1.0927 (4.4270)\t\n",
      "Epoch: [1][1050/1445]\tTime 0.023 (0.023)\tData 0.002 (0.002)\tLoss 1.2311 (4.3608)\t\n",
      "Epoch: [1][1080/1445]\tTime 0.023 (0.023)\tData 0.002 (0.002)\tLoss 1.5701 (4.3724)\t\n",
      "Epoch: [1][1110/1445]\tTime 0.022 (0.023)\tData 0.002 (0.002)\tLoss 56.1042 (4.4326)\t\n",
      "Epoch: [1][1140/1445]\tTime 0.023 (0.023)\tData 0.002 (0.002)\tLoss 0.9832 (4.4495)\t\n",
      "Epoch: [1][1170/1445]\tTime 0.023 (0.023)\tData 0.002 (0.002)\tLoss 2.5080 (4.4669)\t\n",
      "Epoch: [1][1200/1445]\tTime 0.023 (0.023)\tData 0.002 (0.002)\tLoss 1.0370 (4.5084)\t\n",
      "Epoch: [1][1230/1445]\tTime 0.023 (0.023)\tData 0.002 (0.002)\tLoss 15.1281 (4.4819)\t\n",
      "Epoch: [1][1260/1445]\tTime 0.022 (0.023)\tData 0.002 (0.002)\tLoss 47.1256 (4.5599)\t\n",
      "Epoch: [1][1290/1445]\tTime 0.022 (0.023)\tData 0.002 (0.002)\tLoss 5.4494 (4.7075)\t\n",
      "Epoch: [1][1320/1445]\tTime 0.023 (0.023)\tData 0.003 (0.002)\tLoss 1.6521 (4.7463)\t\n",
      "Epoch: [1][1350/1445]\tTime 0.023 (0.023)\tData 0.003 (0.002)\tLoss 2.3399 (4.7194)\t\n",
      "Epoch: [1][1380/1445]\tTime 0.023 (0.023)\tData 0.003 (0.002)\tLoss 28.8490 (4.7414)\t\n",
      "Epoch: [1][1410/1445]\tTime 0.023 (0.023)\tData 0.003 (0.002)\tLoss 1.3555 (4.7968)\t\n",
      "Epoch: [1][1440/1445]\tTime 0.024 (0.023)\tData 0.003 (0.002)\tLoss 1.7790 (4.8958)\t\n",
      "begin test\n",
      " * MAE 48.970 \n",
      " * best MAE 48.926 \n"
     ]
    }
   ],
   "source": [
    "! python train.py"
   ]
  },
  {
   "cell_type": "code",
   "execution_count": null,
   "metadata": {},
   "outputs": [],
   "source": [
    "! python test.py > ans.txt"
   ]
  },
  {
   "cell_type": "code",
   "execution_count": 9,
   "metadata": {
    "id": "CGfWRh8-egxl"
   },
   "outputs": [
    {
     "name": "stdout",
     "output_type": "stream",
     "text": [
      "/root/miniconda3/lib/python3.10/site-packages/torchvision/models/_utils.py:208: UserWarning: The parameter 'pretrained' is deprecated since 0.13 and may be removed in the future, please use 'weights' instead.\n",
      "  warnings.warn(\n",
      "/root/miniconda3/lib/python3.10/site-packages/torchvision/models/_utils.py:223: UserWarning: Arguments other than a weight enum or `None` for 'weights' are deprecated since 0.13 and may be removed in the future. The current behavior is equivalent to passing `weights=VGG16_Weights.IMAGENET1K_V1`. You can also use `weights=VGG16_Weights.DEFAULT` to get the most up-to-date weights.\n",
      "  warnings.warn(msg)\n"
     ]
    }
   ],
   "source": [
    "! current_time=$(date +\"%Y-%m-%d-%H-%M-%S\") && python test.py > \"answers/ans_${current_time}.txt\""
   ]
  }
 ],
 "metadata": {
  "accelerator": "GPU",
  "colab": {
   "gpuType": "T4",
   "provenance": []
  },
  "kernelspec": {
   "display_name": "Python 3 (ipykernel)",
   "language": "python",
   "name": "python3"
  },
  "language_info": {
   "codemirror_mode": {
    "name": "ipython",
    "version": 3
   },
   "file_extension": ".py",
   "mimetype": "text/x-python",
   "name": "python",
   "nbconvert_exporter": "python",
   "pygments_lexer": "ipython3",
   "version": "3.10.8"
  }
 },
 "nbformat": 4,
 "nbformat_minor": 4
}
